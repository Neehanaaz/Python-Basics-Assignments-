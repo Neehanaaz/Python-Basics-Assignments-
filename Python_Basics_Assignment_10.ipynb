{
  "nbformat": 4,
  "nbformat_minor": 0,
  "metadata": {
    "colab": {
      "provenance": []
    },
    "kernelspec": {
      "name": "python3",
      "display_name": "Python 3"
    },
    "language_info": {
      "name": "python"
    }
  },
  "cells": [
    {
      "cell_type": "markdown",
      "source": [
        "1. How do you distinguish between shutil.copy() and shutil.copytree()?\n",
        "\n",
        "Ans: While shutil. copy() will copy a single file, shutil. copytree() will copy an entire folder and every folder and file contained in it.\n"
      ],
      "metadata": {
        "id": "wPzxPzHDWnQK"
      }
    },
    {
      "cell_type": "markdown",
      "source": [
        "2. What function is used to rename files?\n",
        "\n",
        "Ans: Use the mv command to move files and directories from one directory to another or to rename a file or directory.\n"
      ],
      "metadata": {
        "id": "ku7jdZswWmrZ"
      }
    },
    {
      "cell_type": "markdown",
      "source": [
        "3. What is the difference between the delete functions in the send2trash and shutil modules?\n",
        "\n",
        "Ans: The send2trash functions will move a file or folder to the recycle bin, while shutil functions will permanently delete files and folders.\n"
      ],
      "metadata": {
        "id": "sPijJevSW5vx"
      }
    },
    {
      "cell_type": "markdown",
      "source": [
        "4.ZipFile objects have a close() method just like File objects’ close() method. What ZipFile method is equivalent to File objects’ open() method?\n",
        "\n",
        "Ans: The zipfile. ZipFile() function is equivalent to the open() function; the first argument is the filename, and the second argument is the mode to open the ZIP file in (read, write, or append).\n"
      ],
      "metadata": {
        "id": "jV4k8u8qXDzB"
      }
    }
  ]
}