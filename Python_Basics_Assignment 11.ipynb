{
  "nbformat": 4,
  "nbformat_minor": 0,
  "metadata": {
    "colab": {
      "provenance": []
    },
    "kernelspec": {
      "name": "python3",
      "display_name": "Python 3"
    },
    "language_info": {
      "name": "python"
    }
  },
  "cells": [
    {
      "cell_type": "markdown",
      "source": [
        "1. Create an assert statement that throws an AssertionError if the variable spam is a negative integer.\n",
        "\n",
        "Ans: assert spam>=10, the spam variable is less than 10."
      ],
      "metadata": {
        "id": "jIisgCjw-WEa"
      }
    },
    {
      "cell_type": "markdown",
      "source": [
        "2. Write an assert statement that triggers an AssertionError if the variables eggs and bacon contain strings that are the same as each other, even if their cases are different (that is, 'hello' and 'hello' are considered the same, and 'goodbye' and 'GOODbye' are also considered the same).\n",
        "\n",
        "Ans: Either assert eggs.lower() !=bacon.lower() the eggs and bacon variablees are the same. or assert eggs.upper !=bacon.upper, the eggs and bacon variables are the same!."
      ],
      "metadata": {
        "id": "Hqk-m27g-urb"
      }
    },
    {
      "cell_type": "markdown",
      "source": [
        "3. Create an assert statement that throws an AssertionError every time.\n",
        "\n",
        "Ans: assert false, this assertion always triggers."
      ],
      "metadata": {
        "id": "zGOUzbSJ_LXP"
      }
    },
    {
      "cell_type": "markdown",
      "source": [
        "4. What are the two lines that must be present in your software in order to call logging.debug()?\n",
        "\n",
        "Ans: To be able to call logging.debug(), you must have two lines at the start of your program.\n",
        "\n",
        "import logging\n",
        "\n",
        "logging.basicconfig(level=logging.DEBUG,format='%(asctimes)s %(levelname)s-%(message)s')"
      ],
      "metadata": {
        "id": "1Z5mZONG_Vy_"
      }
    },
    {
      "cell_type": "markdown",
      "source": [
        "5. What are the two lines that your program must have in order to have logging.debug() send a logging message to a file named programLog.txt?\n",
        "\n",
        "Ans: To be able to send logging messages to a file named programLog.txt with logging.debug(),you must have these two lines at the strat your program.\n",
        "\n",
        "import logging\n",
        "\n",
        ">>> logging.basicConfig(filename='programlog.txt', level=logging.DEBUG,format='%(asctime)s-%(levelname)s-%(message)s')"
      ],
      "metadata": {
        "id": "GyvqhxHeAD6L"
      }
    },
    {
      "cell_type": "markdown",
      "source": [
        "6. What are the five levels of logging?\n",
        "\n",
        "Ans: DEBUG,INFO,WARNING,ERROR and CRITICAL"
      ],
      "metadata": {
        "id": "sA_0ITwBA4yQ"
      }
    },
    {
      "cell_type": "markdown",
      "source": [
        "7. What line of code would you add to your software to disable all logging messages?\n",
        "\n",
        "Ans: logging.disable(logging.critical)"
      ],
      "metadata": {
        "id": "Z4WVLtMoBV60"
      }
    },
    {
      "cell_type": "markdown",
      "source": [
        "8.Why is using logging messages better than using print() to display the same message?\n",
        "\n",
        "Ans: You can disable logging messages without removing the logging fuction calls. You can selectively disable lower level logging messages. You can create lgging message. Logging messages provide a timestamps."
      ],
      "metadata": {
        "id": "yU2n1uYEmj1N"
      }
    },
    {
      "cell_type": "markdown",
      "source": [
        "9. What are the differences between the Step Over, Step In, and Step Out buttons in the debugger?\n",
        "\n",
        "Ans: The Step In button will remove the debugger into a function call. The Step Over button will execute quickly the function call without stepping into it. The Step Out button will execute quicly the rest of the code untiul its steps out of the function it currenly is in. "
      ],
      "metadata": {
        "id": "qDTHcQVTm_qi"
      }
    },
    {
      "cell_type": "markdown",
      "source": [
        "10.After you click Continue, when will the debugger stop ?\n",
        "\n",
        "Ans: After you click continue the debugger will stop when it has reached the end of the program or a line with a breakpoint."
      ],
      "metadata": {
        "id": "NXpiyK9enmbo"
      }
    },
    {
      "cell_type": "markdown",
      "source": [
        "11. What is the concept of a breakpoint?\n",
        "\n",
        "Ans: A breakpoint is a setting on aline of code that causes the debugger to pause when the program execution reaches the line."
      ],
      "metadata": {
        "id": "DyATuYaxn2XK"
      }
    }
  ]
}