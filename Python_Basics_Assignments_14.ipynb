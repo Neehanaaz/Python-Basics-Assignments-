{
  "nbformat": 4,
  "nbformat_minor": 0,
  "metadata": {
    "colab": {
      "provenance": []
    },
    "kernelspec": {
      "name": "python3",
      "display_name": "Python 3"
    },
    "language_info": {
      "name": "python"
    }
  },
  "cells": [
    {
      "cell_type": "markdown",
      "source": [
        "1. What does RGBA stand for?\n",
        "\n",
        "Ans: RGBA stands for Red, Green, Blue, Alpha. It's a color model used in digital graphics, where each color is represented by a combination of red, green, and blue values, and the alpha value represents the transparency or opacity of the color. The alpha value ranges from 0 (completely transparent) to 1 (completely opaque). The RGBA model is commonly used in web design and digital imaging software.\n",
        "\n",
        "\n",
        "\n"
      ],
      "metadata": {
        "id": "RGiz0WtrxXSk"
      }
    },
    {
      "cell_type": "markdown",
      "source": [
        "2. From the Pillow module, how do you get the RGBA value of any images?\n",
        "\n",
        "Ans: To get the RGBA value of any image using the Pillow module in Python, you can use the getpixel() method. Here's an example:\n",
        "\n"
      ],
      "metadata": {
        "id": "kg8Z0uqcyLnc"
      }
    },
    {
      "cell_type": "code",
      "source": [
        "from PIL import Image\n",
        "\n",
        "# Open the image file\n",
        "image = Image.open(\"example.png\")\n",
        "\n",
        "# Get the RGBA value of a pixel at position (x, y)\n",
        "x = 100\n",
        "y = 200\n",
        "rgba = image.getpixel((x, y))\n",
        "\n",
        "# Print the RGBA value\n",
        "print(\"RGBA value at ({}, {}): {}\".format(x, y, rgba))\n"
      ],
      "metadata": {
        "id": "rRO_i_ByyOju"
      },
      "execution_count": null,
      "outputs": []
    },
    {
      "cell_type": "markdown",
      "source": [
        "In this example, we first open the image file using the Image.open() method. Then, we use the getpixel() method to get the RGBA value of a pixel at position (x, y). Finally, we print the RGBA value using the print() function.\n",
        "\n",
        "\n",
        "\n"
      ],
      "metadata": {
        "id": "dQBcsppRyTnO"
      }
    },
    {
      "cell_type": "markdown",
      "source": [
        "3. What is a box tuple, and how does it work?\n",
        "\n",
        "Ans: In the context of the Pillow module in Python, a box tuple is a tuple that represents a rectangular region in an image. It is defined as a tuple of four integers in the form (left, upper, right, lower), where left is the x-coordinate of the leftmost pixel in the rectangle, upper is the y-coordinate of the topmost pixel, right is the x-coordinate of the rightmost pixel, and lower is the y-coordinate of the bottommost pixel.\n",
        "\n",
        "The box tuple is often used as an argument for various methods in the Pillow module, such as the crop() method, which extracts a rectangular region from an image."
      ],
      "metadata": {
        "id": "pW_ITXenyan4"
      }
    },
    {
      "cell_type": "markdown",
      "source": [
        "4. Use your image and load in notebook then, How can you find out the width and height of an Image object?\n",
        "\n"
      ],
      "metadata": {
        "id": "Ntj2uWlZyiuA"
      }
    },
    {
      "cell_type": "code",
      "source": [
        "from PIL import Image\n",
        "\n",
        "# Open the image file\n",
        "image = Image.open(\"example.png\")\n",
        "\n",
        "# Get the width and height of the image\n",
        "width, height = image.size\n",
        "\n",
        "# Print the width and height of the image\n",
        "print(\"Image width: {}\".format(width))\n",
        "print(\"Image height: {}\".format(height))\n"
      ],
      "metadata": {
        "id": "bqptvV0Dyo2x"
      },
      "execution_count": null,
      "outputs": []
    },
    {
      "cell_type": "markdown",
      "source": [
        "In this example, we first open the image file using the Image.open() method. Then, we use the size attribute of the image object to get a tuple containing the width and height of the image. Finally, we print the width and height using the print() function.\n",
        "\n",
        "Note that the size attribute returns a tuple in the format (width, height). So, we use tuple unpacking to assign the values to the variables width and height."
      ],
      "metadata": {
        "id": "z8PEg8R4yr6P"
      }
    },
    {
      "cell_type": "markdown",
      "source": [
        "5. What method would you call to get Image object for a 100×100 image, excluding the lower-left quarter of it?\n",
        "\n",
        "Ans: To get an Image object for a 100x100 image, excluding the lower-left quarter of it, you can use the crop() method of the Image object.\n",
        "\n"
      ],
      "metadata": {
        "id": "aG0YUTWtyxEq"
      }
    },
    {
      "cell_type": "markdown",
      "source": [
        "we first open the original image using the Image.open() method. We then define the box tuple (50, 0, 100, 50) to specify the region of interest, which starts at position (50, 0) and has a width and height of 50 pixels. This corresponds to the upper-right quarter of the 100x100 image, excluding the lower-left quarter. We then use the crop() method to extract the region from the original image, and save the cropped image to a file.\n",
        "\n",
        "\n",
        "\n",
        "\n"
      ],
      "metadata": {
        "id": "PuukkqwAy3d0"
      }
    },
    {
      "cell_type": "markdown",
      "source": [
        "6. After making changes to an Image object, how could you save it as an image file?\n",
        "\n",
        "Ans: To save an Image object as an image file after making changes to it, you can use the save() method of the Image object."
      ],
      "metadata": {
        "id": "zmzK_Lg_zDqS"
      }
    },
    {
      "cell_type": "markdown",
      "source": [
        "7. What module contains Pillow’s shape-drawing code?\n",
        "\n",
        "Ans: The module that contains Pillow's shape-drawing code is called ImageDraw. It is a module of the Pillow library that provides a way to draw shapes, text, and other graphics on an Image object. The ImageDraw module provides a set of methods for drawing various shapes such as lines, rectangles, circles, and polygons, as well as for drawing text with different fonts and styles. "
      ],
      "metadata": {
        "id": "iJmTsTZ_zLT_"
      }
    },
    {
      "cell_type": "markdown",
      "source": [
        "8. Image objects do not have drawing methods. What kind of object does? How do you get this kind of object?\n",
        "\n",
        "Ans: The ImageDraw module provides drawing methods for drawing shapes and text on an Image object. To use these drawing methods, you need to create an ImageDraw object and pass it the Image object as an argument. The ImageDraw object provides a set of methods for drawing various shapes such as lines, rectangles, circles, and polygons, as well as for drawing text with different fonts and styles."
      ],
      "metadata": {
        "id": "BM0Pu_itzR-C"
      }
    }
  ]
}