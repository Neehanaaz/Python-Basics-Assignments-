{
  "nbformat": 4,
  "nbformat_minor": 0,
  "metadata": {
    "colab": {
      "provenance": []
    },
    "kernelspec": {
      "name": "python3",
      "display_name": "Python 3"
    },
    "language_info": {
      "name": "python"
    }
  },
  "cells": [
    {
      "cell_type": "markdown",
      "source": [
        "1.What are the two values of the Boolean data type? How do you write them?\n",
        "\n",
        "Ans: The two values of the boolean type are True (T) and False (F) in upper case and the rest of the word will be lower case letters."
      ],
      "metadata": {
        "id": "re1SO_DAXrgP"
      }
    },
    {
      "cell_type": "markdown",
      "source": [
        "2. What are the three different types of Boolean operators?\n",
        "\n",
        "Ans: and ,or and not are the three different types of boolean operators."
      ],
      "metadata": {
        "id": "uUfiA9_WYE36"
      }
    },
    {
      "cell_type": "markdown",
      "source": [
        "3. Make a list of each Boolean operator's truth tables (i.e. every possible combination of Boolean values for the operator and what it evaluate ).\n",
        "\n",
        "Ans: True and True is True\n",
        "\n",
        "True and False is False\n",
        "\n",
        "False and False is False \n",
        "\n",
        "False and False is False \n",
        "\n",
        "True or True is True\n",
        "\n",
        "True or False is True\n",
        "\n",
        "Flase or True is True\n",
        "\n",
        "False or False is False\n",
        "\n",
        "not True is False\n",
        "\n",
        "not False is True "
      ],
      "metadata": {
        "id": "a0q0_APSYT0x"
      }
    },
    {
      "cell_type": "markdown",
      "source": [],
      "metadata": {
        "id": "Vn-MMPrDZJgi"
      }
    },
    {
      "cell_type": "markdown",
      "source": [
        "4. What are the values of the following expressions?\n",
        "\n",
        "(5 > 4) and (3 == 5) - False \n",
        "\n",
        "not (5 > 4) - False \n",
        "\n",
        "(5 > 4) or (3 == 5) - True \n",
        "\n",
        "not ((5 > 4) or (3 == 5)) - False\n",
        "\n",
        "(True and True) and (True == False)  - False\n",
        "\n",
        "(not False) or (not True) - True \n"
      ],
      "metadata": {
        "id": "oj6Svq76ZUjn"
      }
    },
    {
      "cell_type": "markdown",
      "source": [
        "5. What are the six comparison operators?\n",
        "\n",
        "Ans: ==, !=, <,>,<=, >= "
      ],
      "metadata": {
        "id": "EZR-H1EDZ4xA"
      }
    },
    {
      "cell_type": "markdown",
      "source": [
        "6. How do you tell the difference between the equal to and assignment operators?Describe a condition and when you would use one.\n",
        "\n",
        "Ans: == is the equal to operator that compares two values and evaluates to a boolean, while = is the assignment operator that stores a value in a variable. "
      ],
      "metadata": {
        "id": "7xNm2I7vaOMC"
      }
    },
    {
      "cell_type": "code",
      "source": [
        "#example\n",
        "if (2==3):\n",
        "  print (\"True\")\n",
        "else :\n",
        "  print (\"False\")  \n",
        "#assignment operator \n",
        "c=1 #we have used assignment operator = to assign the value of c=1 \n",
        "print(\"c=\",c)  "
      ],
      "metadata": {
        "colab": {
          "base_uri": "https://localhost:8080/"
        },
        "id": "qRV8x7L4aqDR",
        "outputId": "242a8a1f-4800-4b0e-e59d-b9597f5ff0e2"
      },
      "execution_count": 2,
      "outputs": [
        {
          "output_type": "stream",
          "name": "stdout",
          "text": [
            "False\n",
            "c= 1\n"
          ]
        }
      ]
    },
    {
      "cell_type": "markdown",
      "source": [
        "7. Identify the three blocks in this code:\n",
        "\n",
        "spam = 0\n",
        "\n",
        "if spam == 10:\n",
        "\n",
        "print('eggs')\n",
        "\n",
        "if spam > 5:\n",
        "\n",
        "print('bacon')\n",
        "\n",
        "else:\n",
        "\n",
        "print('ham')\n",
        "\n",
        "print('spam')\n",
        "\n",
        "print('spam')\n"
      ],
      "metadata": {
        "id": "91eAYSJ4bRRO"
      }
    },
    {
      "cell_type": "code",
      "source": [
        "spam=0\n",
        "if spam == 10:\n",
        "   print('eggs')  #block 1\n",
        "if spam >= 5:\n",
        "  print('bacon')  #block2\n",
        "else:    \n",
        "  print('ham')  #block 3\n",
        "  print('spam')\n",
        "  print('spam')"
      ],
      "metadata": {
        "colab": {
          "base_uri": "https://localhost:8080/"
        },
        "id": "JEy8djJTblh4",
        "outputId": "32cb6f4b-76db-4329-8c28-8f131adf57c0"
      },
      "execution_count": 3,
      "outputs": [
        {
          "output_type": "stream",
          "name": "stdout",
          "text": [
            "ham\n",
            "spam\n",
            "spam\n"
          ]
        }
      ]
    },
    {
      "cell_type": "markdown",
      "source": [
        "8. Write code that prints Hello if 1 is stored in spam, prints Howdy if 2 is stored in spam, and prints Greetings! if anything else is stored in spam.\n",
        "\n"
      ],
      "metadata": {
        "id": "9TBsCRwmcWFT"
      }
    },
    {
      "cell_type": "code",
      "source": [
        "if spam==1:\n",
        "  print('Hello')\n",
        "elif spam == 2:\n",
        "  print('Howdy')\n",
        "else:\n",
        "  print('Greetings!')"
      ],
      "metadata": {
        "colab": {
          "base_uri": "https://localhost:8080/"
        },
        "id": "TqY0AJitcc1n",
        "outputId": "5ced06f5-a588-465c-93c8-b86db9360316"
      },
      "execution_count": 6,
      "outputs": [
        {
          "output_type": "stream",
          "name": "stdout",
          "text": [
            "Greetings!\n"
          ]
        }
      ]
    },
    {
      "cell_type": "markdown",
      "source": [
        "9.If your programme is stuck in an endless loop, what keys you’ll press?\n",
        "\n",
        "Ans: If the program is stuck in an endless loop, press CNTRL+C to stop a program stuck."
      ],
      "metadata": {
        "id": "WVcfMe5NbPTn"
      }
    },
    {
      "cell_type": "markdown",
      "source": [
        "10. How can you tell the difference between break and continue?\n",
        "\n",
        "Ans: The break statement will move the execution outside and just after a loop. The continue statement will move the execution to the start of the loop.\n"
      ],
      "metadata": {
        "id": "ifL4Hecydf5j"
      }
    },
    {
      "cell_type": "code",
      "source": [
        "#example\n",
        "for i in range (10):\n",
        "     if (i==7):\n",
        "        break\n",
        "     print(i)\n",
        "\n",
        "print('breaked')\n",
        "for i in range(10):\n",
        "    if(i==7):\n",
        "      continue\n",
        "      print(i)\n"
      ],
      "metadata": {
        "colab": {
          "base_uri": "https://localhost:8080/"
        },
        "id": "LOBhsgQ4fOCY",
        "outputId": "d3eb888e-2671-4f52-dd10-13afdd7d92f9"
      },
      "execution_count": 12,
      "outputs": [
        {
          "output_type": "stream",
          "name": "stdout",
          "text": [
            "0\n",
            "1\n",
            "2\n",
            "3\n",
            "4\n",
            "5\n",
            "6\n",
            "breaked\n"
          ]
        }
      ]
    },
    {
      "cell_type": "code",
      "source": [
        "11. In a for loop, what is the difference between range(10), range(0, 10), and range(0, 10, 1)?\n"
      ],
      "metadata": {
        "id": "Rcvy-ApZfykJ"
      },
      "execution_count": null,
      "outputs": []
    },
    {
      "cell_type": "code",
      "source": [
        "for i in range(10):\n",
        "  print(i)\n",
        "print(\"xxxxxxxxxxxxxxxxxxxxxxxxxxxxxxxxxxxxxxxxxxxxxxxxxxxx\")\n",
        "for i in range (0,10):\n",
        "     print(i)\n",
        "print(\"xxxxxxxxxxxxxxxxxxxxxxxxxxxxxxxxxxxxxxxxxxxxxxxxxxxxx\")\n",
        "for i in range (0,10,1):\n",
        "     print(i)"
      ],
      "metadata": {
        "colab": {
          "base_uri": "https://localhost:8080/"
        },
        "id": "mLNo5Q4TgOdy",
        "outputId": "c38c0a9c-1d7f-4064-e407-51e7d3fd5ed2"
      },
      "execution_count": 15,
      "outputs": [
        {
          "output_type": "stream",
          "name": "stdout",
          "text": [
            "0\n",
            "1\n",
            "2\n",
            "3\n",
            "4\n",
            "5\n",
            "6\n",
            "7\n",
            "8\n",
            "9\n",
            "xxxxxxxxxxxxxxxxxxxxxxxxxxxxxxxxxxxxxxxxxxxxxxxxxxxx\n",
            "0\n",
            "1\n",
            "2\n",
            "3\n",
            "4\n",
            "5\n",
            "6\n",
            "7\n",
            "8\n",
            "9\n",
            "xxxxxxxxxxxxxxxxxxxxxxxxxxxxxxxxxxxxxxxxxxxxxxxxxxxxx\n",
            "0\n",
            "1\n",
            "2\n",
            "3\n",
            "4\n",
            "5\n",
            "6\n",
            "7\n",
            "8\n",
            "9\n"
          ]
        }
      ]
    },
    {
      "cell_type": "markdown",
      "source": [
        "From the above code they all do the same thing.The range (10) calls the ranges from 0 to 10 but not including 10, range(0,10) explicitly tells the loop to start at 0 and range(0,10,1) explicitly tells the loop to increase the variable by 1 on each iteration.  "
      ],
      "metadata": {
        "id": "vI6T26Nrg9IL"
      }
    },
    {
      "cell_type": "markdown",
      "source": [
        "12. Write a short program that prints the numbers 1 to 10 using a for loop. Then write an equivalent program that prints the numbers 1 to 10 using a while loop.\n",
        "\n"
      ],
      "metadata": {
        "id": "8CwVMhevg5Ne"
      }
    },
    {
      "cell_type": "code",
      "source": [
        "for i in range(1,11):\n",
        "  print(i)\n",
        "i=1\n",
        "while i <= 10:\n",
        "  print(i)\n",
        "  i=i+1"
      ],
      "metadata": {
        "colab": {
          "base_uri": "https://localhost:8080/"
        },
        "id": "3zZrVpHChh7I",
        "outputId": "6a01a5ba-2eba-47cb-f891-01c3406f6c37"
      },
      "execution_count": 24,
      "outputs": [
        {
          "output_type": "stream",
          "name": "stdout",
          "text": [
            "1\n",
            "2\n",
            "3\n",
            "4\n",
            "5\n",
            "6\n",
            "7\n",
            "8\n",
            "9\n",
            "10\n",
            "1\n",
            "2\n",
            "3\n",
            "4\n",
            "5\n",
            "6\n",
            "7\n",
            "8\n",
            "9\n",
            "10\n"
          ]
        }
      ]
    },
    {
      "cell_type": "markdown",
      "source": [
        "13. If you had a function named bacon() inside a module named spam, how would you call it after importing spam?\n",
        "\n",
        "Ans: This function can be called with spam.bacon() "
      ],
      "metadata": {
        "id": "hIUWoyOyiS6d"
      }
    }
  ]
}