{
  "nbformat": 4,
  "nbformat_minor": 0,
  "metadata": {
    "colab": {
      "provenance": []
    },
    "kernelspec": {
      "name": "python3",
      "display_name": "Python 3"
    },
    "language_info": {
      "name": "python"
    }
  },
  "cells": [
    {
      "cell_type": "markdown",
      "source": [
        "1. What advantages do Excel spreadsheets have over CSV spreadsheets?\n",
        "\n",
        "Ans: Excel spreadsheets have several advantages over CSV (Comma Separated Values) spreadsheets:\n",
        "\n",
        "Formatting: Excel allows you to format cells, rows, and columns with different fonts, colors, borders, and other styling options. This makes it easy to highlight important data and create a professional-looking spreadsheet.\n",
        "\n",
        "Formulas and Functions: Excel has built-in formulas and functions that allow you to perform calculations and data analysis. For example, you can use the SUM function to add up a column of numbers or use the AVERAGE function to calculate the average of a set of numbers. These formulas and functions make it easy to perform complex calculations quickly and accurately.\n",
        "\n",
        "Charts and Graphs: Excel makes it easy to create charts and graphs to visualize your data. You can choose from a variety of chart types, such as line, bar, and pie charts, and customize the look and feel of your chart to match your data.\n",
        "\n",
        "Data Validation: Excel allows you to set up data validation rules to ensure that your data is entered correctly. For example, you can set up a rule that requires a certain format for a phone number or email address, or that restricts the values that can be entered in a cell.\n",
        "\n",
        "Sorting and Filtering: Excel allows you to sort and filter your data to make it easier to find specific information. You can sort data by column, or filter data to show only certain values based on specific criteria.\n",
        "\n",
        "CSV files, on the other hand, are simple text files that contain data separated by commas. They are more lightweight than Excel spreadsheets and can be easily imported and exported by many different programs. However, they do not offer the same level of formatting, formulas, and visualization tools as Excel.\n",
        "\n",
        "\n",
        "\n"
      ],
      "metadata": {
        "id": "Ec7xFHDVvDOS"
      }
    },
    {
      "cell_type": "markdown",
      "source": [
        "2.What do you pass to csv.reader() and csv.writer() to create reader and writer objects?\n",
        "\n",
        "Ans: To create a reader or writer object using the csv module in Python, you need to pass a file object to the csv.reader() or csv.writer() function.\n",
        "\n",
        "To create a reader object, you would pass the file object of the CSV file you want to read as the first argument to the csv.reader() function. For example:\n",
        "\n"
      ],
      "metadata": {
        "id": "1kG7to9uvHa5"
      }
    },
    {
      "cell_type": "code",
      "source": [
        "import csv\n",
        "\n",
        "with open('mydata.csv', 'r') as file:\n",
        "    reader = csv.reader(file)\n",
        "    for row in reader:\n",
        "        print(row)\n"
      ],
      "metadata": {
        "id": "Jc37qWLSvPpI"
      },
      "execution_count": null,
      "outputs": []
    },
    {
      "cell_type": "markdown",
      "source": [
        "In this example, we're opening a CSV file called mydata.csv in read mode and passing the file object to the csv.reader() function. This creates a reader object, which we can then use to read the data in the CSV file row by row.\n",
        "\n",
        "To create a writer object, you would pass the file object of the CSV file you want to write to as the first argument to the csv.writer() function. For example:\n",
        "\n"
      ],
      "metadata": {
        "id": "sPCsI3bJvTt_"
      }
    },
    {
      "cell_type": "code",
      "source": [
        "import csv\n",
        "\n",
        "with open('mydata.csv', 'w', newline='') as file:\n",
        "    writer = csv.writer(file)\n",
        "    writer.writerow(['Name', 'Age', 'Email'])\n",
        "    writer.writerow(['John', '25', 'john@example.com'])\n",
        "    writer.writerow(['Jane', '30', 'jane@example.com'])\n"
      ],
      "metadata": {
        "id": "lkCl5jXVvaoD"
      },
      "execution_count": null,
      "outputs": []
    },
    {
      "cell_type": "markdown",
      "source": [
        "3. What modes do File objects for reader and writer objects need to be opened in?\n",
        "Ans: When working with reader and writer objects in Python's csv module, the file object that you pass to the csv.reader() or csv.writer() function should be opened in the appropriate mode, depending on whether you want to read from or write to the file.\n",
        "\n",
        "For a reader object, the file object should be opened in read mode (i.e., 'r'), which is the default mode when you use the open() function without specifying a mode."
      ],
      "metadata": {
        "id": "CIa7VNTXveDp"
      }
    },
    {
      "cell_type": "markdown",
      "source": [
        "4. What method takes a list argument and writes it to a CSV file?\n",
        "\n",
        "Ans: To write a list to a CSV file using Python's csv module, you can use the writerow() method of a csv.writer object.\n",
        "\n",
        "The writerow() method takes a list argument containing the values you want to write to a row in the CSV file. Each element in the list represents a column in the row. For"
      ],
      "metadata": {
        "id": "Jv1jRtlNvskH"
      }
    },
    {
      "cell_type": "markdown",
      "source": [
        "5. What do the keyword arguments delimiter and line terminator do?\n",
        "\n",
        "Ans: The delimiter and line terminator are optional keyword arguments that you can pass to the csv.writer() function in Python's csv module to customize how the output CSV file is formatted.\n",
        "\n",
        "The delimiter argument specifies the character that should be used to separate fields in the CSV file. By default, the delimiter is a comma (,), but you can change it to another character, such as a tab (\\t) or semicolon (;). For"
      ],
      "metadata": {
        "id": "wAwxzG22vyRy"
      }
    },
    {
      "cell_type": "markdown",
      "source": [
        "6. What function takes a string of JSON data and returns a Python data structure?\n",
        "\n",
        "Ans: The json.loads() function is used to convert a string containing JSON data into a Python data structure.\n",
        "\n"
      ],
      "metadata": {
        "id": "vM5KKl_bv7N2"
      }
    },
    {
      "cell_type": "markdown",
      "source": [
        "7. What function takes a Python data structure and returns a string of JSON data?\n",
        "\n",
        "Ans: The json.dumps() function is used to convert a Python data structure (e.g. a dictionary, list, or tuple) into a JSON-formatted string.\n",
        "\n"
      ],
      "metadata": {
        "id": "eZO4xsX_wDb8"
      }
    }
  ]
}