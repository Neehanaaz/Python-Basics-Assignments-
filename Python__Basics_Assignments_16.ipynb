{
  "nbformat": 4,
  "nbformat_minor": 0,
  "metadata": {
    "colab": {
      "provenance": []
    },
    "kernelspec": {
      "name": "python3",
      "display_name": "Python 3"
    },
    "language_info": {
      "name": "python"
    }
  },
  "cells": [
    {
      "cell_type": "markdown",
      "source": [
        "1. Create a list called years_list, starting with the year of your birth, and each year thereafter until the year of your fifth birthday. For example, if you were born in 1980. the list would be years_list = [1980, 1981, 1982, 1983, 1984, 1985].\n",
        "\n",
        "Ans: Here's the code to create the years_list starting from my birth year until my fifth birthday:\n",
        "\n",
        "\n",
        "\n",
        "\n",
        "\n",
        "\n"
      ],
      "metadata": {
        "id": "_eRfNAPS_GQK"
      }
    },
    {
      "cell_type": "code",
      "source": [
        "years_list = [1995, 1996, 1997, 1998, 1999, 2000]\n",
        "Note: This assumes that my birth year was 1995. Please replace it with your own birth year while creating the list."
      ],
      "metadata": {
        "id": "CSPgqZqF_PWS"
      },
      "execution_count": null,
      "outputs": []
    },
    {
      "cell_type": "markdown",
      "source": [
        "2. In which year in years_list was your third birthday? Remember, you were 0 years of age for your first year.\n",
        "\n",
        "Ans: Since I was 0 years old in my first year, my third birthday would be 2 years after my birth year.\n",
        "\n",
        "So, if my birth year was 1995, my third birthday would have been in the year 1998.\n",
        "\n",
        "To confirm this, I can check if 1998 is in the years_list:\n",
        "\n",
        "\n",
        "This code should output \"My third birthday was in 1998\"."
      ],
      "metadata": {
        "id": "Jp8rg_jZ_Qbn"
      }
    },
    {
      "cell_type": "code",
      "source": [
        "years_list = [1995, 1996, 1997, 1998, 1999, 2000]\n",
        "\n",
        "if 1998 in years_list:\n",
        "    print(\"My third birthday was in 1998\")\n",
        "else:\n",
        "    print(\"My third birthday was not in years_list\")"
      ],
      "metadata": {
        "id": "PWAjxNFc_gR4"
      },
      "execution_count": null,
      "outputs": []
    },
    {
      "cell_type": "markdown",
      "source": [
        "3.In the years list, which year were you the oldest?\n",
        "\n",
        "Ans: To determine which year I was the oldest, I need to find the maximum value in the years_list. Since the list is sorted in ascending order, the last element of the list would be the maximum and therefore the year in which I was the oldest.\n",
        "\n",
        "So, if the years_list is:\n",
        "\n",
        "\n",
        "years_list = [1995, 1996, 1997, 1998, 1999, 2000]\n",
        "Then, the year in which I was the oldest would be 2000.\n",
        "\n",
        "I can confirm this by using the max() function on the years_list:\n",
        "\n",
        "\n",
        "years_list = [1995, 1996, 1997, 1998, 1999, 2000]\n",
        "\n",
        "oldest_year = max(years_list)\n",
        "\n",
        "print(\"The year in which I was the oldest was:\", oldest_year)\n",
        "This code should output \"The year in which I was the oldest was: 2000\"."
      ],
      "metadata": {
        "id": "VC_LECho_hkU"
      }
    },
    {
      "cell_type": "markdown",
      "source": [
        "4. Make a list called things with these three strings as elements: \"mozzarella\", \"cinderella\", \"salmonella\".\n",
        "\n",
        "Ans: Here's the code to create the things list:\n",
        "\n",
        "\n",
        "things = [\"mozzarella\", \"cinderella\", \"salmonella\"]\n",
        "This will create a list named things with the three strings \"mozzarella\", \"cinderella\", and \"salmonella\" as elements."
      ],
      "metadata": {
        "id": "4XuNgFPp_sb3"
      }
    },
    {
      "cell_type": "markdown",
      "source": [
        "5. Capitalize the element in things that refers to a person and then print the list. Did it change the element in the list?\n",
        "\n",
        "Ans: Here's the code to capitalize the second element (which refers to a person) in the things list:\n",
        "\n",
        "things = [\"mozzarella\", \"cinderella\", \"salmonella\"]\n",
        "\n",
        "# Capitalize the second element\n",
        "things[1] = things[1].capitalize()\n",
        "\n",
        "# Print the updated list\n",
        "print(things)\n",
        "This should output ['mozzarella', 'Cinderella', 'salmonella'].\n",
        "\n",
        "Yes, the element in the list referring to a person (i.e., \"cinderella\") has been capitalized and updated to \"Cinderella\". The original list has been modified."
      ],
      "metadata": {
        "id": "qVUMJ0VG_4Ri"
      }
    },
    {
      "cell_type": "markdown",
      "source": [
        "6. Make a surprise list with the elements \"Groucho,\" \"Chico,\" and \"Harpo.\"\n",
        "\n",
        "Ans: Here's the code to create the surprise list:\n",
        "\n",
        "\n",
        "surprise = [\"Groucho\", \"Chico\", \"Harpo\"]\n",
        "This will create a list named surprise with the three strings \"Groucho\", \"Chico\", and \"Harpo\" as elements."
      ],
      "metadata": {
        "id": "HslW0k6OAHk3"
      }
    },
    {
      "cell_type": "markdown",
      "source": [
        "7. Lowercase the last element of the surprise list, reverse it, and then capitalize it.\n",
        "\n",
        "Ans: The code to perform the specified operations on the last element of the surprise list:\n",
        "\n",
        "\n",
        "surprise = [\"Groucho\", \"Chico\", \"Harpo\"]\n",
        "\n",
        "# Lowercase the last element\n",
        "last_element = surprise[-1].lower()\n",
        "\n",
        "# Reverse the last element\n",
        "last_element = last_element[::-1]\n",
        "\n",
        "# Capitalize the last element\n",
        "last_element = last_element.capitalize()\n",
        "\n",
        "# Replace the original last element with the updated one\n",
        "surprise[-1] = last_element\n",
        "\n",
        "# Print the updated list\n",
        "print(surprise)\n",
        "This should output ['Groucho', 'Chico', 'Oprah'].\n",
        "\n",
        "Note that in the final output, the last element of the surprise list has been updated from \"Harpo\" to \"Oprah\", after performing the specified operations."
      ],
      "metadata": {
        "id": "qnWO7kNTAQVs"
      }
    },
    {
      "cell_type": "markdown",
      "source": [
        "8. Make an English-to-French dictionary called e2f and print it. Here are your starter words: dog is chien, cat is chat, and walrus is morse.\n",
        "\n",
        "Ans: The code to create the e2f dictionary:\n",
        "\n",
        "\n",
        "e2f = {\"dog\": \"chien\", \"cat\": \"chat\", \"walrus\": \"morse\"}\n",
        "\n",
        "print(e2f)\n",
        "This should output {'dog': 'chien', 'cat': 'chat', 'walrus': 'morse'} which is the English-to-French dictionary with the given starter words.\n",
        "\n",
        "\n",
        "\n"
      ],
      "metadata": {
        "id": "VKOVV6ZbAc1R"
      }
    },
    {
      "cell_type": "markdown",
      "source": [
        "9. Write the French word for walrus in your three-word dictionary e2f.\n",
        "\n",
        "Ans: The French word for \"walrus\" in the e2f dictionary would be:\n",
        "\n",
        "\n",
        "e2f[\"walrus\"]\n",
        "This would output 'morse', which is the French word for \"walrus\" in the e2f dictionary.\n",
        "\n",
        "\n",
        "\n"
      ],
      "metadata": {
        "id": "u7Wrk6KXAp-w"
      }
    },
    {
      "cell_type": "markdown",
      "source": [
        "10. Make a French-to-English dictionary called f2e from e2f. Use the items method.\n",
        "\n",
        "Ans: The code to create the f2e dictionary from the e2f dictionary using the items() method:\n",
        "\n",
        "\n",
        "# Create the e2f dictionary\n",
        "e2f = {\"dog\": \"chien\", \"cat\": \"chat\", \"walrus\": \"morse\"}\n",
        "\n",
        "# Use items() method to swap keys and values\n",
        "f2e = {value: key for key, value in e2f.items()}\n",
        "\n",
        "# Print the f2e dictionary\n",
        "print(f2e)\n",
        "This code will output the f2e dictionary:\n",
        "\n",
        "{'chien': 'dog', 'chat': 'cat', 'morse': 'walrus'}\n",
        "This dictionary contains the French-to-English mappings, which are the reverse of the English-to-French mappings in the e2f dictionary."
      ],
      "metadata": {
        "id": "5pwUWPMGAxis"
      }
    },
    {
      "cell_type": "markdown",
      "source": [
        "11. Print the English version of the French word chien using f2e.\n",
        "\n",
        "Ans: The code to print the English version of the French word \"chien\" using the f2e dictionary:\n",
        "\n",
        "\n",
        "# Create the e2f dictionary\n",
        "e2f = {\"dog\": \"chien\", \"cat\": \"chat\", \"walrus\": \"morse\"}\n",
        "\n",
        "# Use items() method to swap keys and values\n",
        "f2e = {value: key for key, value in e2f.items()}\n",
        "\n",
        "# Print the English version of \"chien\"\n",
        "print(f2e[\"chien\"])\n",
        "This will output 'dog', which is the English version of the French word \"chien\" in the f2e dictionary.\n",
        "\n",
        "\n",
        "12. Make and print a set of English words from the keys in e2f.\n",
        "\n",
        "Ans: The code to create a set of English words from the keys in the e2f dictionary:\n",
        "\n",
        "\n",
        "# Create the e2f dictionary\n",
        "e2f = {\"dog\": \"chien\", \"cat\": \"chat\", \"walrus\": \"morse\"}\n",
        "\n",
        "# Create a set of English words from the keys in e2f\n",
        "english_words = set(e2f.keys())\n",
        "\n",
        "# Print the set of English words\n",
        "print(english_words)\n",
        "This code will output the set of English words:\n",
        "\n",
        "\n",
        "{'dog', 'cat', 'walrus'}\n",
        "This set contains all the English words from the keys of the e2f dictionary.\n",
        "\n",
        "\n",
        "\n",
        "\n",
        "13. Make a multilevel dictionary called life. Use these strings for the topmost keys: 'animals', 'plants', and 'other'. Make the 'animals' key refer to another dictionary with the keys 'cats', 'octopi', and 'emus'. Make the 'cats' key refer to a list of strings with the values 'Henri', 'Grumpy', and 'Lucy'. Make all the other keys refer to empty dictionaries.\n",
        "\n",
        "Ans: The code to create the life multilevel dictionary as described:\n",
        "\n",
        "\n",
        "life = {\n",
        "    'animals': {\n",
        "        'cats': ['Henri', 'Grumpy', 'Lucy'],\n",
        "        'octopi': {},\n",
        "        'emus': {}\n",
        "    },\n",
        "    'plants': {},\n",
        "    'other': {}\n",
        "}\n",
        "\n",
        "print(life)\n",
        "This should output the life dictionary:\n",
        "\n",
        "\n",
        "{'animals': {'cats': ['Henri', 'Grumpy', 'Lucy'], 'octopi': {}, 'emus': {}}, 'plants': {}, 'other': {}}\n",
        "This dictionary has three top-level keys, where the 'animals' key refers to a nested dictionary with three keys 'cats', 'octopi', and 'emus'. The 'cats' key has a list of cat names as its value, and the other two keys are empty dictionaries. The other two top-level keys 'plants' and 'other' also have empty dictionaries as their values.\n",
        "\n",
        "\n",
        "\n",
        "\n",
        "14. Print the top-level keys of life.\n",
        "\n",
        "Ans: The code to print the top-level keys of the life dictionary:\n",
        "\n",
        "\n",
        "# Create the life dictionary\n",
        "life = {\n",
        "    'animals': {\n",
        "        'cats': ['Henri', 'Grumpy', 'Lucy'],\n",
        "        'octopi': {},\n",
        "        'emus': {}\n",
        "    },\n",
        "    'plants': {},\n",
        "    'other': {}\n",
        "}\n",
        "\n",
        "# Print the top-level keys of the dictionary\n",
        "print(life.keys())\n",
        "This will output\n",
        "dict_keys(['animals', 'plants', 'other'])\n",
        "This shows the top-level keys of the life dictionary.\n",
        "\n",
        "\n",
        "\n",
        "\n",
        "15. Print the keys for life['animals'].\n",
        "\n",
        "Ans: The code to print the keys for the animals dictionary nested within the life dictionary:\n",
        "\n",
        "\n",
        "\n",
        "# Create the life dictionary\n",
        "life = {\n",
        "    'animals': {\n",
        "        'cats': ['Henri', 'Grumpy', 'Lucy'],\n",
        "        'octopi': {},\n",
        "        'emus': {}\n",
        "    },\n",
        "    'plants': {},\n",
        "    'other': {}\n",
        "}\n",
        "\n",
        "# Print the keys for the 'animals' dictionary\n",
        "print(life['animals'].keys())\n",
        "This will output: \n",
        "\n",
        "dict_keys(['cats', 'octopi', 'emus'])\n",
        "This shows the keys for the 'animals' dictionary, which are 'cats', 'octopi', and 'emus'.\n",
        "\n",
        "\n",
        "\n",
        "\n",
        "16. Print the values for life['animals']['cats']\n",
        "\n",
        "The code to print the values for the 'cats' key within the 'animals' dictionary:\n",
        "\n",
        "\n",
        "# Create the life dictionary\n",
        "life = {\n",
        "    'animals': {\n",
        "        'cats': ['Henri', 'Grumpy', 'Lucy'],\n",
        "        'octopi': {},\n",
        "        'emus': {}\n",
        "    },\n",
        "    'plants': {},\n",
        "    'other': {}\n",
        "}\n",
        "\n",
        "# Print the values for the 'cats' key within the 'animals' dictionary\n",
        "print(life['animals']['cats'])\n",
        "This will output\n",
        "\n",
        "['Henri', 'Grumpy', 'Lucy']\n",
        "This shows the list of cat names, which are the values for the 'cats' key within the 'animals' dictionary."
      ],
      "metadata": {
        "id": "_qFQn2unBJ_R"
      }
    },
    {
      "cell_type": "markdown",
      "source": [],
      "metadata": {
        "id": "Lk85z1GQA89d"
      }
    }
  ]
}