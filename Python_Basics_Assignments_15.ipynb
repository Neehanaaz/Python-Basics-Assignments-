{
  "nbformat": 4,
  "nbformat_minor": 0,
  "metadata": {
    "colab": {
      "provenance": []
    },
    "kernelspec": {
      "name": "python3",
      "display_name": "Python 3"
    },
    "language_info": {
      "name": "python"
    }
  },
  "cells": [
    {
      "cell_type": "markdown",
      "source": [
        "1.How many seconds are in an hour? Use the interactive interpreter as a calculator and multiply the number of seconds in a minute (60) by the number of minutes in an hour (also 60).\n",
        "\n",
        "Ans: To find the number of seconds in an hour, we can multiply the number of seconds in a minute (60) by the number of minutes in an hour (60).\n",
        "\n",
        "Using the interactive interpreter as a calculator, we can enter:\n",
        "\n",
        "\n",
        "60 * 60\n",
        "The output will be:\n",
        "\n",
        "3600\n",
        "Therefore, there are 3600 seconds in an hour."
      ],
      "metadata": {
        "id": "2LtW8_TZ0gqH"
      }
    },
    {
      "cell_type": "markdown",
      "source": [
        "2. Assign the result from the previous task (seconds in an hour) to a variable called seconds_per_hour.\n",
        "\n",
        "Ans: To assign the result from the previous task (seconds in an hour) to a variable called seconds_per_hour, we can use the following code:\n",
        "\n",
        "seconds_per_hour = 60 * 60\n",
        "This code assigns the value of 3600 to the variable seconds_per_hour."
      ],
      "metadata": {
        "id": "VuVcUfBl0mhl"
      }
    },
    {
      "cell_type": "markdown",
      "source": [
        "3. How many seconds do you think there are in a day? Make use of the variables seconds per hour and minutes per hour.\n",
        "\n",
        "Ans: To calculate the number of seconds in a day, we can use the variables seconds_per_hour and minutes_per_hour:\n",
        "\n",
        "\n",
        "seconds_per_hour = 60 * 60\n",
        "\n",
        "minutes_per_hour = 60\n",
        "\n",
        "seconds_per_day = seconds_per_hour * 24\n",
        "\n",
        "We know that there are 24 hours in a day, so we multiply the number of seconds in an hour by 24.\n",
        "\n",
        "Using the above code, we assign the value of 3600 to the variable seconds_per_hour and the value of 60 to the variable minutes_per_hour. Then, we multiply seconds_per_hour by 24 to get the number of seconds in a day.\n",
        "\n",
        "Therefore, the number of seconds in a day is 86,400."
      ],
      "metadata": {
        "id": "nfsBrtA50vIV"
      }
    },
    {
      "cell_type": "markdown",
      "source": [
        "4. Calculate seconds per day again, but this time save the result in a variable called seconds_per_day\n",
        "\n",
        "Ans: To calculate the number of seconds in a day and save the result in a variable called seconds_per_day, we can use the variables seconds_per_hour and minutes_per_hour:\n",
        "\n",
        "\n",
        "seconds_per_hour = 60 * 60\n",
        "\n",
        "minutes_per_hour = 60\n",
        "\n",
        "seconds_per_day = seconds_per_hour * 24\n",
        "\n",
        "We know that there are 24 hours in a day, so we multiply the number of seconds in an hour by 24.\n",
        "\n",
        "Using the above code, we assign the value of 3600 to the variable seconds_per_hour and the value of 60 to the variable minutes_per_hour. Then, we multiply seconds_per_hour by 24 to get the number of seconds in a day and assign the result to the variable seconds_per_day.\n",
        "\n",
        "Therefore, the value of seconds_per_day is 86,400."
      ],
      "metadata": {
        "id": "jdnX4Yc51MNE"
      }
    },
    {
      "cell_type": "markdown",
      "source": [
        "5. Divide seconds_per_day by seconds_per_hour. Use floating-point (/) division.\n",
        "\n",
        "Ans: To divide seconds_per_day by seconds_per_hour, we can use the following code:\n",
        "\n",
        "\n",
        "\n",
        "seconds_per_day = 86400\n",
        "\n",
        "seconds_per_hour = 3600\n",
        "\n",
        "seconds_per_day / seconds_per_hour\n",
        "\n",
        "The output will be:\n",
        "\n",
        "24.0\n",
        "\n",
        "Using floating-point division (/) gives us a result with decimal places. Therefore, the number of hours in a day is 24.0.\n",
        "\n",
        "\n",
        "\n"
      ],
      "metadata": {
        "id": "5u7hgqJv1TM9"
      }
    },
    {
      "cell_type": "markdown",
      "source": [
        "6. Divide seconds_per_day by seconds_per_hour, using integer (//) division. Did this number agree with the floating-point value from the previous question, aside from the final .0?\n",
        "\n",
        "Ans: To perform integer division (//) between seconds_per_day and seconds_per_hour, we can use the following code:\n",
        "\n",
        "\n",
        "seconds_per_day = 86400\n",
        "\n",
        "seconds_per_hour = 3600\n",
        "\n",
        "seconds_per_day // seconds_per_hour\n",
        "\n",
        "The output will be:\n",
        "\n",
        "\n",
        "24\n",
        "\n",
        "Using integer division (//) discards any decimal places, and returns only the integer part of the result. Therefore, the number of hours in a day is 24, which agrees with the floating-point value from the previous question aside from the final .0."
      ],
      "metadata": {
        "id": "diJRt76e1kkN"
      }
    },
    {
      "cell_type": "markdown",
      "source": [
        "7. Write a generator, genPrimes, that returns the sequence of prime numbers on successive calls to its next() method: 2, 3, 5, 7, 11, ...\n",
        "Ans: Here's a possible implementation of the genPrimes generator:\n",
        "\n",
        "def genPrimes():\n",
        "    # Start with the first prime number\n",
        "    num = 2\n",
        "    # Keep track of previously generated primes\n",
        "    primes = []\n",
        "    while True:\n",
        "        # Check if the current number is prime\n",
        "        is_prime = True\n",
        "        for prime in primes:\n",
        "            if num % prime == 0:\n",
        "                is_prime = False\n",
        "                break\n",
        "        if is_prime:\n",
        "            # If it's prime, yield it as the next prime number\n",
        "            primes.append(num)\n",
        "            yield num\n",
        "        # Move on to the next number\n",
        "        num += 1\n",
        "The genPrimes function uses a while loop to generate an infinite sequence of prime numbers. The loop starts with the first prime number, which is 2. The function keeps track of previously generated primes in a list called primes.\n",
        "\n",
        "On each iteration of the loop, the function checks whether the current number is prime by dividing it by each previously generated prime. If the current number is divisible by any of the previous primes, it is not prime and we move on to the next number. Otherwise, the current number is prime and we append it to the primes list and yield it as the next prime number.\n",
        "\n",
        "You can use the genPrimes generator to generate prime numbers as follows:\n",
        "\n",
        "\n",
        "prime_generator = genPrimes()\n",
        "\n",
        "# Generate the first 5 prime numbers\n",
        "for i in range(5):\n",
        "    print(next(prime_generator))  # Output: 2, 3, 5, 7, 11\n",
        "\n",
        "\n",
        "\n"
      ],
      "metadata": {
        "id": "DT0oD6Zu08nd"
      }
    }
  ]
}