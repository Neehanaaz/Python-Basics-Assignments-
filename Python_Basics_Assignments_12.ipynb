{
  "nbformat": 4,
  "nbformat_minor": 0,
  "metadata": {
    "colab": {
      "provenance": []
    },
    "kernelspec": {
      "name": "python3",
      "display_name": "Python 3"
    },
    "language_info": {
      "name": "python"
    }
  },
  "cells": [
    {
      "cell_type": "markdown",
      "source": [
        "1. In what modes should the PdfFileReader() and PdfFileWriter() File objects will be opened?\n",
        "\n",
        "Ans: In Python's PyPDF2 library, the PdfFileReader() and PdfFileWriter() classes are used to read and write PDF files, respectively.\n",
        "\n",
        "When opening a PDF file with PdfFileReader(), the file object should be opened in binary mode ('rb'). This is because PDF files are binary files and should be read in binary mode to ensure that the data is read correctly. \n",
        "\n",
        "When opening a file with PdfFileWriter(), the file object should be opened in binary mode as well ('wb'). This is because the PdfFileWriter() class will write binary data to the file. \n"
      ],
      "metadata": {
        "id": "2NBHVfrNpfIV"
      }
    },
    {
      "cell_type": "markdown",
      "source": [
        "2. From a PdfFileReader object, how do you get a Page object for page 5?\n",
        "\n",
        "Ans: To get a Page object for page 5 from a PdfFileReader object, you can use the getPage() method, which takes a 0-based index of the page you want to retrieve. Since page numbers in PDF files are 1-based, to get page 5, you should pass the index 4 to getPage() method.\n",
        "\n"
      ],
      "metadata": {
        "id": "7LHkqdxLp02S"
      }
    },
    {
      "cell_type": "code",
      "source": [
        "from PyPDF2 import PdfFileReader\n",
        "\n",
        "with open('example.pdf', 'rb') as pdf_file:\n",
        "    pdf_reader = PdfFileReader(pdf_file)\n",
        "    page_5 = pdf_reader.getPage(4) # Index 4 corresponds to page 5\n"
      ],
      "metadata": {
        "id": "z0yOP_dvqDud"
      },
      "execution_count": null,
      "outputs": []
    },
    {
      "cell_type": "markdown",
      "source": [
        "In this example, we first open the PDF file in binary mode and create a PdfFileReader object from the file. Then we use the getPage() method to get a Page object for page 5 (which has an index of 4). Finally, we assign the Page object to the variable page_5.\n",
        "\n",
        "\n",
        "\n"
      ],
      "metadata": {
        "id": "eQkklprOqFFL"
      }
    },
    {
      "cell_type": "markdown",
      "source": [
        "3. What PdfFileReader variable stores the number of pages in the PDF document?\n",
        "\n",
        "Ans: In PyPDF2's PdfFileReader class, the number of pages in a PDF document can be accessed using the numPages variable.\n",
        "\n",
        "Here's an example code snippet that demonstrates how to get the number of pages in a PDF document using numPages:"
      ],
      "metadata": {
        "id": "q3yumFcYqJj6"
      }
    },
    {
      "cell_type": "code",
      "source": [
        "from PyPDF2 import PdfFileReader\n",
        "\n",
        "with open('example.pdf', 'rb') as pdf_file:\n",
        "    pdf_reader = PdfFileReader(pdf_file)\n",
        "    num_pages = pdf_reader.numPages\n",
        "    print(f'Total number of pages: {num_pages}')\n"
      ],
      "metadata": {
        "id": "cuCSK6karjKj"
      },
      "execution_count": null,
      "outputs": []
    },
    {
      "cell_type": "markdown",
      "source": [
        "In this example, we first open the PDF file in binary mode and create a PdfFileReader object from the file. Then we use the numPages variable to get the total number of pages in the PDF document. Finally, we print the number of pages using print().\n",
        "\n",
        "\n",
        "\n"
      ],
      "metadata": {
        "id": "5-knH_wOrmmJ"
      }
    },
    {
      "cell_type": "markdown",
      "source": [
        "4. If a PdfFileReader object’s PDF is encrypted with the password swordfish, what must you do before you can obtain Page objects from it?\n",
        "\n",
        "Ans: If a PdfFileReader object's PDF is encrypted with a password, you must decrypt the PDF file before you can obtain Page objects from it.\n",
        "\n",
        "To decrypt the PDF file, you can call the decrypt() method on the PdfFileReader object and pass the password as a string argument.\n",
        "\n",
        "we first open the encrypted PDF file in binary mode and create a PdfFileReader object from the file. Then we check if the PDF file is encrypted by calling the isEncrypted attribute on the PdfFileReader object. If it's encrypted, we call the decrypt() method and pass the password as a string argument to decrypt the PDF file. Finally, we use the getPage() method to get a Page object for the first page of the PDF document.\n",
        "\n",
        "\n",
        "\n"
      ],
      "metadata": {
        "id": "blxYsJkNrrMh"
      }
    },
    {
      "cell_type": "markdown",
      "source": [
        "5. What methods do you use to rotate a page?\n",
        "\n",
        "\n",
        "Ans: In PyPDF2's PdfFileWriter class, you can use the rotateClockwise() and rotateCounterClockwise() methods to rotate a page clockwise and counterclockwise, respectively. Both methods take a single argument, which is the rotation angle in degrees.\n",
        "\n",
        "we first open the input PDF file in binary mode and create a PdfFileReader object from the file. Then we create a PdfFileWriter object to write the output PDF file. We get the first page of the input PDF using the getPage() method and rotate it by 90 degrees clockwise using the rotateClockwise() method. Then we add the rotated page to the PdfFileWriter object using the addPage() method, and finally, we write the output PDF to a file using the write() method.\n",
        "\n",
        "\n",
        "\n",
        "\n"
      ],
      "metadata": {
        "id": "NuSE1aTIsBkQ"
      }
    },
    {
      "cell_type": "markdown",
      "source": [
        "6. What is the difference between a Run object and a Paragraph object?\n",
        "\n",
        "Ans: In the context of the python-docx library, a Run object represents a contiguous run of characters with the same style within a paragraph, whereas a Paragraph object represents a block of text with one or more runs.\n",
        "\n",
        "Here's a brief explanation of each:\n",
        "\n",
        "Run: A Run object represents a contiguous run of characters within a paragraph that share the same character style. For example, if you have a paragraph with bold, italic, and regular text, each of these styles would be represented as a separate Run object within the paragraph. You can access and modify the properties of a Run object, such as its text, font size, font style, and color.\n",
        "\n",
        "Paragraph: A Paragraph object represents a block of text within a document, and it can contain one or more Run objects. A paragraph can have its own style, indentation, spacing, and alignment. You can add, remove, or modify runs within a paragraph, as well as change the paragraph's formatting.\n",
        "\n",
        "\n"
      ],
      "metadata": {
        "id": "eVjluzmCsKEe"
      }
    },
    {
      "cell_type": "markdown",
      "source": [
        "7. How do you obtain a list of Paragraph objects for a Document object that’s stored in a variable named doc?\n",
        "\n",
        "Ans: To obtain a list of Paragraph objects for a Document object stored in a variable named doc, you can use the doc.paragraphs property. This property returns a list of Paragraph objects, where each item in the list represents a paragraph in the document.\n",
        "\n"
      ],
      "metadata": {
        "id": "rg5A_L5isYeN"
      }
    },
    {
      "cell_type": "markdown",
      "source": [
        "8. What type of object has bold, underline, italic, strike, and outline variables?\n",
        "\n",
        "Ans: The python-docx library provides a Font object that has variables for bold, underline, italic, strike-through, and outline styles.\n",
        "\n",
        "You can use the Font object to modify the font properties of a Run object or a Paragraph object. For example, to make a run of text bold and italic, you can set the bold and italic properties of the Font object:\n",
        "\n"
      ],
      "metadata": {
        "id": "DaS1LvcOsmTf"
      }
    },
    {
      "cell_type": "markdown",
      "source": [
        "9. What is the difference between False, True, and None for the bold variable?\n",
        "\n",
        "Ans: In python-docx, the bold property of a Font object can have three different values: True, False, and None.\n",
        "\n",
        "If bold is set to True, the text will be displayed in a bold font.\n",
        "If bold is set to False, the text will be displayed in a regular (non-bold) font.\n",
        "If bold is set to None, the text will inherit the bold setting from its parent. For example, if the parent is a paragraph and its bold property is set to True, then any runs of text in that paragraph that have bold=None will be displayed in a bold font.\n"
      ],
      "metadata": {
        "id": "ZYTy1ndosqEO"
      }
    },
    {
      "cell_type": "markdown",
      "source": [
        "10. How do you create a Document object for a new Word document?\n",
        "You can create a Document object for a new Word document using the python-docx library. Here's an example code snippet that demonstrates how to create a new Word document and add some text to it:\n",
        "\n"
      ],
      "metadata": {
        "id": "P2ErLCbBsyav"
      }
    },
    {
      "cell_type": "code",
      "source": [
        "from docx import Document\n",
        "from docx.shared import Pt\n",
        "\n",
        "# Create a new Word document\n",
        "document = Document()\n",
        "\n",
        "# Add a paragraph with some text\n",
        "paragraph = document.add_paragraph()\n",
        "run = paragraph.add_run('Hello, world!')\n",
        "run.font.size = Pt(12)\n",
        "\n",
        "# Save the document to a file\n",
        "document.save('example.docx')\n"
      ],
      "metadata": {
        "id": "xSqRWrPFs4fs"
      },
      "execution_count": null,
      "outputs": []
    },
    {
      "cell_type": "markdown",
      "source": [
        "In this example, we first import the Document and Pt classes from the docx and docx.shared modules, respectively. We then create a new Document object using the Document() constructor. We add a paragraph to the document using the add_paragraph() method and a run of text to the paragraph using the add_run() method. Finally, we set the font size of the run using the font.size property and save the document to a file using the save() method.\n",
        "\n",
        "\n",
        "\n"
      ],
      "metadata": {
        "id": "q07GieTws8dO"
      }
    },
    {
      "cell_type": "markdown",
      "source": [
        "11. How do you add a paragraph with the text 'Hello, there!' to a Document object stored in a variable named doc?\n",
        "\n",
        "Ans: You can add a paragraph with the text 'Hello, there!' to a Document object stored in a variable named doc using the add_paragraph() method. Here's an example code snippet that demonstrates how to do this:\n",
        "\n",
        "we first import the Document and Pt classes from the docx and docx.shared modules, respectively. We then create a new Document object using the Document() constructor and add a paragraph with the text 'Hello, there!' to it using the add_paragraph() method. Finally, we save the document to a file using the save() method.\n",
        "\n",
        "\n",
        "\n",
        "\n"
      ],
      "metadata": {
        "id": "9WLw71dGtE1y"
      }
    },
    {
      "cell_type": "markdown",
      "source": [
        "12. What integers represent the levels of headings available in Word documents?\n",
        "\n",
        "Ans: In Word documents, there are six levels of headings, which are represented by integers 1 through 6. Heading 1 is the largest and most prominent, while Heading 6 is the smallest and least prominent. You can use these heading levels to structure your document and create an outline.\n",
        "\n",
        "In the python-docx library, you can apply a heading style to a paragraph using the style property of a Paragraph object. For example, to apply Heading 1 to a paragraph, you would set the style property to 'Heading 1':\n",
        "\n"
      ],
      "metadata": {
        "id": "5NN9fPcRtM-C"
      }
    }
  ]
}