{
  "nbformat": 4,
  "nbformat_minor": 0,
  "metadata": {
    "colab": {
      "provenance": []
    },
    "kernelspec": {
      "name": "python3",
      "display_name": "Python 3"
    },
    "language_info": {
      "name": "python"
    }
  },
  "cells": [
    {
      "cell_type": "markdown",
      "source": [
        "1. Assign the value 7 to the variable guess_me. Then, write the conditional tests (if, else, and elif) to print the string 'too low' if guess_me is less than 7, 'too high' if greater than 7, and 'just right' if equal to 7.\n",
        "\n",
        "Ans:  Python code to assign the value 7 to the variable guess_me and print the corresponding string based on its value using conditional statements:\n",
        "\n",
        "\n",
        "\n",
        "In the below code, the if statement tests if guess_me is less than 7. If it's true, it executes the code block inside the if statement, which prints 'too low'. If the if statement is false, the code moves to the elif statement, which tests if guess_me is greater than 7. If it's true, it executes the code block inside the elif statement, which prints 'too high'. If both the if and elif statements are false, the code executes the code block inside the else statement, which prints 'just right'."
      ],
      "metadata": {
        "id": "p105nqyXPx79"
      }
    },
    {
      "cell_type": "code",
      "execution_count": null,
      "metadata": {
        "id": "oqhuX89UPtys"
      },
      "outputs": [],
      "source": [
        "guess_me = 7\n",
        "\n",
        "if guess_me < 7:\n",
        "    print('too low')\n",
        "elif guess_me > 7:\n",
        "    print('too high')\n",
        "else:\n",
        "    print('just right')"
      ]
    },
    {
      "cell_type": "markdown",
      "source": [
        "2. Assign the value 7 to the variable guess_me and the value 1 to the variable start. Write a while loop that compares start with guess_me. Print too low if start is less than guess me. If start equals guess_me, print 'found it!' and exit the loop. If start is greater than guess_me, print 'oops' and exit the loop. Increment start at the end of the loop.\n",
        "\n",
        "Ans: Python code to assign the value 7 to the variable guess_me, the value 1 to the variable start, and use a while loop to compare start with guess_me:\n",
        "\n",
        "\n",
        "In the below  code, the while loop continues indefinitely until it reaches a break statement. Within the loop, the if statement tests if start is less than guess_me. If it's true, it prints 'too low'. If the elif statement is true, it means start equals guess_me, so it prints 'found it!' and exits the loop using the break statement. If both the if and elif statements are false, the code executes the code block inside the else statement, which prints 'oops' and exits the loop using the break statement.\n",
        "\n",
        "Finally, at the end of each iteration of the loop, start is incremented by 1 using the start += 1 statement."
      ],
      "metadata": {
        "id": "G2B40Qe2P9r_"
      }
    },
    {
      "cell_type": "code",
      "source": [
        "guess_me = 7\n",
        "start = 1\n",
        "\n",
        "while True:\n",
        "    if start < guess_me:\n",
        "        print('too low')\n",
        "    elif start == guess_me:\n",
        "        print('found it!')\n",
        "        break\n",
        "    else:\n",
        "        print('oops')\n",
        "        break\n",
        "    start += 1"
      ],
      "metadata": {
        "id": "Z0TExAxDP-SG"
      },
      "execution_count": null,
      "outputs": []
    },
    {
      "cell_type": "markdown",
      "source": [
        "3. Print the following values of the list [3, 2, 1, 0] using a for loop.\n",
        "\n",
        "Ans: Python code to print the values of the list [3, 2, 1, 0] using a for loop:\n",
        "\n",
        "my_list = [3, 2, 1, 0]\n",
        "\n",
        "for value in my_list:\n",
        "    print(value)\n",
        "\n",
        "In the above code, the for loop iterates over each value in the my_list variable and assigns it to the value variable. Then, it executes the code block inside the loop, which simply prints the current value of value. The loop continues until all the values in the list have been printed. The output will be:\n",
        "\n",
        "\n",
        "3\n",
        "2\n",
        "1\n",
        "0"
      ],
      "metadata": {
        "id": "Pdmo3ax5QNso"
      }
    },
    {
      "cell_type": "code",
      "source": [],
      "metadata": {
        "id": "-3aPNfevQON0"
      },
      "execution_count": null,
      "outputs": []
    },
    {
      "cell_type": "markdown",
      "source": [
        "4. Use a list comprehension to make a list of the even numbers in range(10)\n",
        "\n",
        "Ans:  Python code to use a list comprehension to make a list of the even numbers in the range(10):\n",
        "\n",
        "\n",
        "even_numbers = [num for num in range(10) if num % 2 == 0]\n",
        "In the above code, the list comprehension generates a list of values num for each number in the range(10) that satisfies the condition num % 2 == 0, which checks if the number is even. The resulting list even_numbers will contain all the even numbers in the range(10). The output will be:\n",
        "\n",
        "[0, 2, 4, 6, 8]"
      ],
      "metadata": {
        "id": "eUAoi0JcQail"
      }
    },
    {
      "cell_type": "markdown",
      "source": [
        "5. Use a dictionary comprehension to create the dictionary squares. Use range(10) to return the keys, and use the square of each key as its value.\n",
        "\n",
        "Ans: Python code to use a dictionary comprehension to create the squares dictionary, using range(10) to return the keys and the square of each key as its value:\n",
        "\n",
        "\n",
        "squares = {num: num**2 for num in range(10)}\n",
        "In the above code, the dictionary comprehension generates a key-value pair for each number in the range(10) using the syntax num: num**2, which sets the key as the current number and the value as its square. The resulting squares dictionary will contain all the squares of the numbers from 0 to 9 as key-value pairs. The output will be:\n",
        "\n",
        "{0: 0, 1: 1, 2: 4, 3: 9, 4: 16, 5: 25, 6: 36, 7: 49, 8: 64, 9: 81}"
      ],
      "metadata": {
        "id": "cPzSg2hzQnjK"
      }
    },
    {
      "cell_type": "markdown",
      "source": [
        "6. Construct the set odd from the odd numbers in the range using a set comprehension (10).\n",
        "\n",
        "Ans:  Python code to construct the odd set from the odd numbers in the range(10) using a set comprehension:\n",
        "\n",
        "odd = {num for num in range(10) if num % 2 != 0}\n",
        "In the above code, the set comprehension generates a set of values num for each odd number in the range(10) that satisfies the condition num % 2 != 0, which checks if the number is odd. The resulting set odd will contain all the odd numbers in the range(10). The output will be:\n",
        "\n",
        "\n",
        "{1, 3, 5, 7, 9}"
      ],
      "metadata": {
        "id": "vW6fGsc6QxP_"
      }
    },
    {
      "cell_type": "markdown",
      "source": [
        "7. Use a generator comprehension to return the string 'Got ' and a number for the numbers in range(10). Iterate through this by using a for loop.\n",
        "\n",
        "Ans: Python code to use a generator comprehension to return the string 'Got ' and a number for the numbers in range(10) and iterate through it using a for loop:\n",
        "\n",
        "\n",
        "gen_comp = ('Got ' + str(num) for num in range(10))\n",
        "\n",
        "for value in gen_comp:\n",
        "    print(value)\n",
        "In the above code, the generator comprehension generates a sequence of values 'Got ' + str(num)' for each number in the range(10), where str(num) converts the number to a string and concatenates it with the string 'Got '. The resulting sequence is a generator object gen_comp. The for loop then iterates through the generator object and prints each value using the print() function. The output will be:\n",
        "\n",
        "\n",
        "Got 0\n",
        "Got 1\n",
        "Got 2\n",
        "Got 3\n",
        "Got 4\n",
        "Got 5\n",
        "Got 6\n",
        "Got 7\n",
        "Got 8\n",
        "Got 9"
      ],
      "metadata": {
        "id": "ZDSaauE_Q54z"
      }
    },
    {
      "cell_type": "markdown",
      "source": [
        "8. Define a function called good that returns the list ['Harry', 'Ron', 'Hermione'].\n",
        "\n",
        "Ans: Python code to define a function called good that returns the list ['Harry', 'Ron', 'Hermione']:\n",
        "\n",
        "def good():\n",
        "    return ['Harry', 'Ron', 'Hermione']\n",
        "In the above code, the def keyword is used to define a function called good that takes no arguments. The return statement inside the function returns the list ['Harry', 'Ron', 'Hermione']. This function can be called later in the code by simply using the function name followed by parentheses, like this: good().\n",
        "\n",
        "\n",
        "\n"
      ],
      "metadata": {
        "id": "KvRVp08tRII5"
      }
    },
    {
      "cell_type": "markdown",
      "source": [
        "9. Define a generator function called get_odds that returns the odd numbers from range(10). Use a for loop to find and print the third value returned.\n",
        "\n",
        "Ans:  Python code to define a generator function called get_odds that returns the odd numbers from range(10) and use a for loop to find and print the third value returned:\n",
        "\n",
        "\n",
        "def get_odds():\n",
        "    for num in range(1, 10, 2):\n",
        "        yield num\n",
        "\n",
        "count = 1\n",
        "for odd in get_odds():\n",
        "    if count == 3:\n",
        "        print(\"The third odd number is:\", odd)\n",
        "        break\n",
        "    count += 1\n",
        "In the above code, the get_odds function is defined using the def keyword and contains a for loop that iterates through the odd numbers in the range(1, 10, 2) and yields each number as it goes. The yield keyword is used to turn the function into a generator that produces a sequence of values.\n",
        "\n",
        "The for loop outside of the function then iterates through the generator object and checks if the current value is the third odd number. If it is, the value is printed using the print() function and the loop is broken using the break keyword.\n",
        "\n",
        "The output will be:\n",
        "\n",
        "\n",
        "The third odd number is: 5\n",
        "\n",
        "\n",
        "\n",
        "\n",
        "10. Define an exception called OopsException. Raise this exception to see what happens. Then write the code to catch this exception and print 'Caught an oops.\n",
        "Ans: Python code to define an exception called OopsException, raise this exception, and catch it:\n",
        "\n",
        "\n",
        "class OopsException(Exception):\n",
        "    pass\n",
        "\n",
        "try:\n",
        "    raise OopsException\n",
        "except OopsException:\n",
        "    print('Caught an oops')\n",
        "In the above code, the class keyword is used to define a new exception called OopsException. The pass keyword is used as a placeholder for the body of the class since it doesn't have any specific functionality.\n",
        "\n",
        "The try block is used to execute the code that may raise an exception. In this case, the raise statement is used to raise the OopsException.\n",
        "\n",
        "The except block catches the OopsException that was raised in the try block, and then executes the code inside the block. In this case, it simply prints the string 'Caught an oops' using the print() function.\n",
        "\n",
        "\n",
        "\n",
        "\n",
        "\n",
        "11. Use zip() to make a dictionary called movies that pairs these lists: titles = ['Creature of Habit', 'Crewel Fate'] and plots = ['A nun turns into a monster', 'A haunted yarn shop'].\n",
        "Here's the Python code to use zip() to make a dictionary called movies that pairs the two lists titles and plots:\n",
        "titles = ['Creature of Habit', 'Crewel Fate']\n",
        "plots = ['A nun turns into a monster', 'A haunted yarn shop']\n",
        "\n",
        "movies = dict(zip(titles, plots))\n",
        "print(movies)\n",
        "In the above code, the zip() function is used to combine the two lists titles and plots into tuples. Then, the dict() function is used to convert those tuples into a dictionary with titles as the keys and plots as the values.\n",
        "\n",
        "The print() function is then used to print out the resulting dictionary.\n",
        "\n",
        "The output will be:\n",
        "\n",
        "{'Creature of Habit': 'A nun turns into a monster', 'Crewel Fate': 'A haunted yarn"
      ],
      "metadata": {
        "id": "R5S__Q0ZRQTZ"
      }
    }
  ]
}